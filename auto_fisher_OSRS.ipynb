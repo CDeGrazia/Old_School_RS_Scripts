{
  "nbformat": 4,
  "nbformat_minor": 0,
  "metadata": {
    "colab": {
      "provenance": [],
      "authorship_tag": "ABX9TyM9t53T2urzi0odoPBs/fbe",
      "include_colab_link": true
    },
    "kernelspec": {
      "name": "python3",
      "display_name": "Python 3"
    },
    "language_info": {
      "name": "python"
    }
  },
  "cells": [
    {
      "cell_type": "markdown",
      "metadata": {
        "id": "view-in-github",
        "colab_type": "text"
      },
      "source": [
        "<a href=\"https://colab.research.google.com/github/CDeGrazia/Old_School_RS_Scripts/blob/main/auto_fisher_OSRS.ipynb\" target=\"_parent\"><img src=\"https://colab.research.google.com/assets/colab-badge.svg\" alt=\"Open In Colab\"/></a>"
      ]
    },
    {
      "cell_type": "code",
      "execution_count": null,
      "metadata": {
        "id": "uY--pzLHkDq3"
      },
      "outputs": [],
      "source": [
        "import pydirectinput\n",
        "import time\n",
        "\n",
        "# Set up hotkeys\n",
        "pydirectinput.keyDown('alt')\n",
        "pydirectinput.press('1')\n",
        "pydirectinput.keyUp('alt')\n",
        "time.sleep(1)\n",
        "\n",
        "# Start fishing\n",
        "while True:\n",
        "    pydirectinput.click()\n",
        "    time.sleep(10)\n"
      ]
    }
  ]
}