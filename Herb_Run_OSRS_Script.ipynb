{
  "nbformat": 4,
  "nbformat_minor": 0,
  "metadata": {
    "colab": {
      "provenance": [],
      "authorship_tag": "ABX9TyPCZ3FnkqAPlkV6YC7iGeC/",
      "include_colab_link": true
    },
    "kernelspec": {
      "name": "python3",
      "display_name": "Python 3"
    },
    "language_info": {
      "name": "python"
    }
  },
  "cells": [
    {
      "cell_type": "markdown",
      "metadata": {
        "id": "view-in-github",
        "colab_type": "text"
      },
      "source": [
        "<a href=\"https://colab.research.google.com/github/CDeGrazia/Old_School_RS_Scripts/blob/main/Herb_Run_OSRS_Script.ipynb\" target=\"_parent\"><img src=\"https://colab.research.google.com/assets/colab-badge.svg\" alt=\"Open In Colab\"/></a>"
      ]
    },
    {
      "cell_type": "markdown",
      "source": [
        "Old School Runescape automated 'Herb run'\n",
        "download 'pip install \n",
        "\n"
      ],
      "metadata": {
        "id": "114u-chrfcrj"
      }
    },
    {
      "cell_type": "code",
      "source": [
        "!pip install pyautogui"
      ],
      "metadata": {
        "colab": {
          "base_uri": "https://localhost:8080/"
        },
        "id": "7gyyFH_81HSl",
        "outputId": "f788bf52-3c7f-432e-e420-247287d57839"
      },
      "execution_count": 2,
      "outputs": [
        {
          "output_type": "stream",
          "name": "stdout",
          "text": [
            "Looking in indexes: https://pypi.org/simple, https://us-python.pkg.dev/colab-wheels/public/simple/\n",
            "Collecting pyautogui\n",
            "  Downloading PyAutoGUI-0.9.53.tar.gz (59 kB)\n",
            "\u001b[2K     \u001b[90m━━━━━━━━━━━━━━━━━━━━━━━━━━━━━━━━━━━━━━━━\u001b[0m \u001b[32m59.0/59.0 KB\u001b[0m \u001b[31m4.0 MB/s\u001b[0m eta \u001b[36m0:00:00\u001b[0m\n",
            "\u001b[?25h  Preparing metadata (setup.py) ... \u001b[?25l\u001b[?25hdone\n",
            "Collecting pymsgbox\n",
            "  Downloading PyMsgBox-1.0.9.tar.gz (18 kB)\n",
            "  Installing build dependencies ... \u001b[?25l\u001b[?25hdone\n",
            "  Getting requirements to build wheel ... \u001b[?25l\u001b[?25hdone\n",
            "  Preparing metadata (pyproject.toml) ... \u001b[?25l\u001b[?25hdone\n",
            "Collecting PyTweening>=1.0.1\n",
            "  Downloading pytweening-1.0.4.tar.gz (14 kB)\n",
            "  Preparing metadata (setup.py) ... \u001b[?25l\u001b[?25hdone\n",
            "Collecting pyscreeze>=0.1.21\n",
            "  Downloading PyScreeze-0.1.28.tar.gz (25 kB)\n",
            "  Installing build dependencies ... \u001b[?25l\u001b[?25hdone\n",
            "  Getting requirements to build wheel ... \u001b[?25l\u001b[?25hdone\n",
            "  Preparing metadata (pyproject.toml) ... \u001b[?25l\u001b[?25hdone\n",
            "Collecting pygetwindow>=0.0.5\n",
            "  Downloading PyGetWindow-0.0.9.tar.gz (9.7 kB)\n",
            "  Preparing metadata (setup.py) ... \u001b[?25l\u001b[?25hdone\n",
            "Collecting mouseinfo\n",
            "  Downloading MouseInfo-0.1.3.tar.gz (10 kB)\n",
            "  Preparing metadata (setup.py) ... \u001b[?25l\u001b[?25hdone\n",
            "Collecting python3-Xlib\n",
            "  Downloading python3-xlib-0.15.tar.gz (132 kB)\n",
            "\u001b[2K     \u001b[90m━━━━━━━━━━━━━━━━━━━━━━━━━━━━━━━━━━━━━━\u001b[0m \u001b[32m132.8/132.8 KB\u001b[0m \u001b[31m11.2 MB/s\u001b[0m eta \u001b[36m0:00:00\u001b[0m\n",
            "\u001b[?25h  Preparing metadata (setup.py) ... \u001b[?25l\u001b[?25hdone\n",
            "Collecting pyrect\n",
            "  Downloading PyRect-0.2.0.tar.gz (17 kB)\n",
            "  Preparing metadata (setup.py) ... \u001b[?25l\u001b[?25hdone\n",
            "Requirement already satisfied: Pillow>=6.2.1 in /usr/local/lib/python3.8/dist-packages (from pyscreeze>=0.1.21->pyautogui) (7.1.2)\n",
            "Collecting pyperclip\n",
            "  Downloading pyperclip-1.8.2.tar.gz (20 kB)\n",
            "  Preparing metadata (setup.py) ... \u001b[?25l\u001b[?25hdone\n",
            "Building wheels for collected packages: pyautogui, pygetwindow, pyscreeze, PyTweening, mouseinfo, pymsgbox, python3-Xlib, pyperclip, pyrect\n",
            "  Building wheel for pyautogui (setup.py) ... \u001b[?25l\u001b[?25hdone\n",
            "  Created wheel for pyautogui: filename=PyAutoGUI-0.9.53-py3-none-any.whl size=36614 sha256=afdcb5ed5944b662d5c1a738e53f0b2e8a8a7d62cecb8e422a2e67c19126ce00\n",
            "  Stored in directory: /root/.cache/pip/wheels/54/04/f7/55704a9d374ed923785a4fdc0ef00151fa25306b3b93345532\n",
            "  Building wheel for pygetwindow (setup.py) ... \u001b[?25l\u001b[?25hdone\n",
            "  Created wheel for pygetwindow: filename=PyGetWindow-0.0.9-py3-none-any.whl size=11080 sha256=40eec29a49dfd6ec39510bb0ac4b44f4dea3aa9a4654e5620bd085d163333d26\n",
            "  Stored in directory: /root/.cache/pip/wheels/91/e3/04/184bda98ec7f7d5f0ba1f372bcf7b3ba86325151ae1dd690fe\n",
            "  Building wheel for pyscreeze (pyproject.toml) ... \u001b[?25l\u001b[?25hdone\n",
            "  Created wheel for pyscreeze: filename=PyScreeze-0.1.28-py3-none-any.whl size=13024 sha256=abb3ccd4ab68c892b374695612ffbf804c505c15e08d773c4cafce01d4cb4d2b\n",
            "  Stored in directory: /root/.cache/pip/wheels/b1/b0/5c/9fb5beb2d6c708479a670e92f4ab3b54523a15c9cd4a46e24e\n",
            "  Building wheel for PyTweening (setup.py) ... \u001b[?25l\u001b[?25hdone\n",
            "  Created wheel for PyTweening: filename=pytweening-1.0.4-py3-none-any.whl size=5853 sha256=3e63f0066f7d24e7fbedf0cebb80e202dcb2bff39b6c6a320e85d42fa17497f1\n",
            "  Stored in directory: /root/.cache/pip/wheels/a2/1b/69/dc477653ccc19228bf53af76c623e4e82e5dc1b6f78d5c4d35\n",
            "  Building wheel for mouseinfo (setup.py) ... \u001b[?25l\u001b[?25hdone\n",
            "  Created wheel for mouseinfo: filename=MouseInfo-0.1.3-py3-none-any.whl size=10906 sha256=552eeb5070aa7e91f80b7a0bc3c40f2fc0df512477a5d8c297b850fbc97a207b\n",
            "  Stored in directory: /root/.cache/pip/wheels/d1/72/fb/35f403de66285df8ecca7049bcc61bfb57aba0f76d1f08f7eb\n",
            "  Building wheel for pymsgbox (pyproject.toml) ... \u001b[?25l\u001b[?25hdone\n",
            "  Created wheel for pymsgbox: filename=PyMsgBox-1.0.9-py3-none-any.whl size=7420 sha256=5d495e98bff9270103ea53402f4474d5faa07b40f1cb15cebdabe1f3e7cbc206\n",
            "  Stored in directory: /root/.cache/pip/wheels/91/28/0d/f4eb606d38276836237d6dc2abf094241e6db5682a126e0389\n",
            "  Building wheel for python3-Xlib (setup.py) ... \u001b[?25l\u001b[?25hdone\n",
            "  Created wheel for python3-Xlib: filename=python3_xlib-0.15-py3-none-any.whl size=109516 sha256=d2e90c39ce167c2dbbbebe00ece4e61cbeaa8b4b7d8accdd237319fc6ab3e453\n",
            "  Stored in directory: /root/.cache/pip/wheels/46/4e/a7/90774eeed70e4e93598bf4cbb1ef00c56e6bdc0fb99cc4215d\n",
            "  Building wheel for pyperclip (setup.py) ... \u001b[?25l\u001b[?25hdone\n",
            "  Created wheel for pyperclip: filename=pyperclip-1.8.2-py3-none-any.whl size=11136 sha256=95b88b57881e33c17eedda7bf529096567527c67877f692164897f4af7c7ab58\n",
            "  Stored in directory: /root/.cache/pip/wheels/7f/1a/65/84ff8c386bec21fca6d220ea1f5498a0367883a78dd5ba6122\n",
            "  Building wheel for pyrect (setup.py) ... \u001b[?25l\u001b[?25hdone\n",
            "  Created wheel for pyrect: filename=PyRect-0.2.0-py2.py3-none-any.whl size=11196 sha256=772365fc2ad2c9c0a17be9028df1114571d7abd2c0ba6bf1f89fb3a8504dacd6\n",
            "  Stored in directory: /root/.cache/pip/wheels/1b/c1/cc/3d6515746ab138a303b6b5d38181399703488f8109b734e768\n",
            "Successfully built pyautogui pygetwindow pyscreeze PyTweening mouseinfo pymsgbox python3-Xlib pyperclip pyrect\n",
            "Installing collected packages: PyTweening, python3-Xlib, pyrect, pyperclip, pymsgbox, pyscreeze, pygetwindow, mouseinfo, pyautogui\n",
            "Successfully installed PyTweening-1.0.4 mouseinfo-0.1.3 pyautogui-0.9.53 pygetwindow-0.0.9 pymsgbox-1.0.9 pyperclip-1.8.2 pyrect-0.2.0 pyscreeze-0.1.28 python3-Xlib-0.15\n"
          ]
        }
      ]
    },
    {
      "cell_type": "code",
      "source": [
        "!pip install pillow\n"
      ],
      "metadata": {
        "colab": {
          "base_uri": "https://localhost:8080/"
        },
        "id": "P1Ngo-qL2OdH",
        "outputId": "1f29dea2-db3b-4b69-c978-0b4488b4f076"
      },
      "execution_count": 8,
      "outputs": [
        {
          "output_type": "stream",
          "name": "stdout",
          "text": [
            "Looking in indexes: https://pypi.org/simple, https://us-python.pkg.dev/colab-wheels/public/simple/\n",
            "Requirement already satisfied: pillow in /usr/local/lib/python3.8/dist-packages (7.1.2)\n"
          ]
        }
      ]
    },
    {
      "cell_type": "markdown",
      "source": [
        "First attempt"
      ],
      "metadata": {
        "id": "AjKozpVhikg4"
      }
    },
    {
      "cell_type": "code",
      "execution_count": null,
      "metadata": {
        "id": "zUbeyMQ6enkD"
      },
      "outputs": [],
      "source": [
        "import pyautogui\n",
        "import time\n",
        "\n",
        "# set the coordinates for the herb patches\n",
        "herb_patches = {\n",
        "    'Ardougne': (2079, 3444),\n",
        "    'Catherby': (2813, 3463),\n",
        "    'Falador': (3055, 3312),\n",
        "    'Canifis': (3474, 3473),\n",
        "    'Port Phasmatys': (3626, 3520),\n",
        "    \n",
        "}\n",
        "\n",
        "# set the wait time for each action\n",
        "wait_time = 2\n",
        "\n",
        "# loop through each herb patch\n",
        "for patch, coords in herb_patches.items():\n",
        "    # move the mouse to the herb patch\n",
        "    pyautogui.moveTo(coords, duration=0.5)\n",
        "    time.sleep(wait_time)\n",
        "    \n",
        "    # check the status of the herbs\n",
        "    pyautogui.click(button='right')\n",
        "    time.sleep(wait_time)\n",
        "    pyautogui.move(0, 30, duration=0.5)\n",
        "    pyautogui.click()\n",
        "    time.sleep(wait_time)\n",
        "    \n",
        "    # harvest the herbs if they are ready\n",
        "    if pyautogui.locateOnScreen('herbs.png'):\n",
        "        pyautogui.click()\n",
        "        time.sleep(wait_time)\n",
        "        pyautogui.typewrite('1')\n",
        "        time.sleep(wait_time)\n",
        "        \n",
        "    # move to the next herb patch\n",
        "    pyautogui.moveTo(herb_patches['Ardougne'], duration=0.5)\n",
        "    pyautogui.move(0, 150, duration=0.5)\n",
        "    pyautogui.click()\n",
        "    time.sleep(wait_time)\n"
      ]
    },
    {
      "cell_type": "markdown",
      "source": [
        "first attempt didnt use any teleports to get to location, or composting. need to add teleports and ultracomposting from a bottomless composting bucket\n",
        "\n",
        "\n"
      ],
      "metadata": {
        "id": "nd8KY8esfbal"
      }
    },
    {
      "cell_type": "markdown",
      "source": [
        "second attempt "
      ],
      "metadata": {
        "id": "1HzJH14RiasR"
      }
    },
    {
      "cell_type": "code",
      "source": [
        "import pyautogui\n",
        "import time\n",
        "\n",
        "# set the coordinates for the herb patches\n",
        "herb_patches = {\n",
        "    'Ardougne': (2079, 3444),\n",
        "    'Catherby': (2813, 3463),\n",
        "    'Falador': (3055, 3312),\n",
        "    'Canifis': (3474, 3473),\n",
        "    'Port Phasmatys': (3626, 3520),\n",
        "    \n",
        "}\n",
        "\n",
        "# set the wait time for each action\n",
        "wait_time = 2\n",
        "\n",
        "# loop through each herb patch\n",
        "for patch, coords in herb_patches.items():\n",
        "    # move the mouse to the herb patch\n",
        "    pyautogui.moveTo(coords, duration=0.5)\n",
        "    time.sleep(wait_time)\n",
        "    \n",
        "    # use ultracompost from bottomless compost bucket\n",
        "    pyautogui.click(button='right')\n",
        "    time.sleep(wait_time)\n",
        "    pyautogui.move(0, 30, duration=0.5)\n",
        "    pyautogui.click()\n",
        "    time.sleep(wait_time)\n",
        "    pyautogui.click(button='right')\n",
        "    time.sleep(wait_time)\n",
        "    pyautogui.move(0, 30, duration=0.5)\n",
        "    pyautogui.click()\n",
        "    time.sleep(wait_time)\n",
        "    \n",
        "    # plant the herb seed\n",
        "    pyautogui.moveTo(coords, duration=0.5)\n",
        "    pyautogui.click()\n",
        "    time.sleep(wait_time)\n",
        "    pyautogui.typewrite('1')\n",
        "    time.sleep(wait_time)\n",
        "    \n",
        "    # move to the next herb patch\n",
        "    pyautogui.moveTo(herb_patches['Ardougne'], duration=0.5)\n",
        "    pyautogui.move(0, 150, duration=0.5)\n",
        "    pyautogui.click()\n",
        "    time.sleep(wait_time)\n"
      ],
      "metadata": {
        "id": "wBHD5jnliSiI"
      },
      "execution_count": null,
      "outputs": []
    },
    {
      "cell_type": "markdown",
      "source": [
        "second attempt didnt utilize portals or teleports"
      ],
      "metadata": {
        "id": "rl_hgXfFiV4m"
      }
    },
    {
      "cell_type": "markdown",
      "source": [
        "Third attempt"
      ],
      "metadata": {
        "id": "O-OhDAiJk_ne"
      }
    },
    {
      "cell_type": "code",
      "source": [
        "!pip install pyautogui\n",
        "import pyautogui\n",
        "import time\n",
        "\n",
        "\n",
        "herb_patches = {\n",
        "    'Ardougne': ((2079, 3444), (1744, 18)),\n",
        "    'Catherby': ((2813, 3463), (1760, 18)),\n",
        "    'Falador': ((3055, 3312), (1769, 18)),\n",
        "    'Canifis': ((3474, 3473), (1778, 18)),\n",
        "    'Port Phasmatys': ((3626, 3520), (1796, 18)),\n",
        "    \n",
        "}\n",
        "\n",
        "\n",
        "wait_time = 2\n",
        "\n",
        "\n",
        "for patch, coords in herb_patches.items():\n",
        "    \n",
        "    pyautogui.moveTo((1754, 13), duration=0.5)\n",
        "    pyautogui.click()\n",
        "    time.sleep(wait_time)\n",
        "    \n",
        "    #wait for the player to arrive at their house\n",
        "    time.sleep(15)\n",
        "    \n",
        "    #select the corresponding portal in the player-owned house\n",
        "    pyautogui.press('esc')\n",
        "    time.sleep(wait_time)\n",
        "    pyautogui.press('2')\n",
        "    time.sleep(wait_time)\n",
        "    pyautogui.moveTo(coords[1], duration=0.5)\n",
        "    pyautogui.click()\n",
        "    time.sleep(wait_time)\n",
        "    \n",
        "    #move to the herb patch\n",
        "    pyautogui.moveTo(coords[0], duration=0.5)\n",
        "    pyautogui.click()\n",
        "    time.sleep(wait_time)\n",
        "    \n",
        "    #collect the herbs\n",
        "    pyautogui.click(button='right')\n",
        "    time.sleep(wait_time)\n",
        "    pyautogui.move(0, 30, duration=0.5)\n",
        "    pyautogui.click()\n",
        "    time.sleep(wait_time)\n",
        "    \n",
        "    #use ultracompost from bottomless compost bucket\n",
        "    pyautogui.click(button='right')\n",
        "    time.sleep(wait_time)\n",
        "    pyautogui.move(0, 30, duration=0.5)\n",
        "    pyautogui.click()\n",
        "    time.sleep(wait_time)\n",
        "    pyautogui.click(button='right')\n",
        "    time.sleep(wait_time)\n",
        "    pyautogui.move(0, 30, duration=0.5)\n",
        "    pyautogui.click()\n",
        "    time.sleep(wait_time)\n",
        "    \n",
        "    #plant the herb seed\n",
        "    pyautogui.moveTo(coords[0], duration=0.5)\n",
        "    pyautogui.click()\n",
        "    time.sleep(wait_time)\n",
        "    pyautogui.typewrite('1')\n",
        "    time.sleep(wait_time)\n",
        "    \n",
        "    # move to the next herb patch\n",
        "    pyautogui.moveTo(herb_patches['Ardougne'][0], duration=0.5)\n",
        "    pyautogui.move(0, 150, duration=0.5)\n",
        "    pyautogui.click()\n",
        "    time.sleep(wait_time)\n"
      ],
      "metadata": {
        "colab": {
          "base_uri": "https://localhost:8080/",
          "height": 586
        },
        "id": "nDCX3x-alCBt",
        "outputId": "dd4d5f6d-0f11-4549-b5eb-9c734528cba3"
      },
      "execution_count": 9,
      "outputs": [
        {
          "output_type": "stream",
          "name": "stdout",
          "text": [
            "Looking in indexes: https://pypi.org/simple, https://us-python.pkg.dev/colab-wheels/public/simple/\n",
            "Requirement already satisfied: pyautogui in /usr/local/lib/python3.8/dist-packages (0.9.53)\n",
            "Requirement already satisfied: PyTweening>=1.0.1 in /usr/local/lib/python3.8/dist-packages (from pyautogui) (1.0.4)\n",
            "Requirement already satisfied: pymsgbox in /usr/local/lib/python3.8/dist-packages (from pyautogui) (1.0.9)\n",
            "Requirement already satisfied: mouseinfo in /usr/local/lib/python3.8/dist-packages (from pyautogui) (0.1.3)\n",
            "Requirement already satisfied: pyscreeze>=0.1.21 in /usr/local/lib/python3.8/dist-packages (from pyautogui) (0.1.28)\n",
            "Requirement already satisfied: pygetwindow>=0.0.5 in /usr/local/lib/python3.8/dist-packages (from pyautogui) (0.0.9)\n",
            "Requirement already satisfied: python3-Xlib in /usr/local/lib/python3.8/dist-packages (from pyautogui) (0.15)\n",
            "Requirement already satisfied: pyrect in /usr/local/lib/python3.8/dist-packages (from pygetwindow>=0.0.5->pyautogui) (0.2.0)\n",
            "Requirement already satisfied: Pillow>=6.2.1 in /usr/local/lib/python3.8/dist-packages (from pyscreeze>=0.1.21->pyautogui) (7.1.2)\n",
            "Requirement already satisfied: pyperclip in /usr/local/lib/python3.8/dist-packages (from mouseinfo->pyautogui) (1.8.2)\n"
          ]
        },
        {
          "output_type": "error",
          "ename": "KeyError",
          "evalue": "ignored",
          "traceback": [
            "\u001b[0;31m---------------------------------------------------------------------------\u001b[0m",
            "\u001b[0;31mKeyError\u001b[0m                                  Traceback (most recent call last)",
            "\u001b[0;32m<ipython-input-9-01a3ca77801d>\u001b[0m in \u001b[0;36m<module>\u001b[0;34m\u001b[0m\n\u001b[1;32m      1\u001b[0m \u001b[0mget_ipython\u001b[0m\u001b[0;34m(\u001b[0m\u001b[0;34m)\u001b[0m\u001b[0;34m.\u001b[0m\u001b[0msystem\u001b[0m\u001b[0;34m(\u001b[0m\u001b[0;34m'pip install pyautogui'\u001b[0m\u001b[0;34m)\u001b[0m\u001b[0;34m\u001b[0m\u001b[0;34m\u001b[0m\u001b[0m\n\u001b[0;32m----> 2\u001b[0;31m \u001b[0;32mimport\u001b[0m \u001b[0mpyautogui\u001b[0m\u001b[0;34m\u001b[0m\u001b[0;34m\u001b[0m\u001b[0m\n\u001b[0m\u001b[1;32m      3\u001b[0m \u001b[0;32mimport\u001b[0m \u001b[0mtime\u001b[0m\u001b[0;34m\u001b[0m\u001b[0;34m\u001b[0m\u001b[0m\n\u001b[1;32m      4\u001b[0m \u001b[0;34m\u001b[0m\u001b[0m\n\u001b[1;32m      5\u001b[0m \u001b[0;34m\u001b[0m\u001b[0m\n",
            "\u001b[0;32m/usr/local/lib/python3.8/dist-packages/pyautogui/__init__.py\u001b[0m in \u001b[0;36m<module>\u001b[0;34m\u001b[0m\n\u001b[1;32m    247\u001b[0m \u001b[0;34m\u001b[0m\u001b[0m\n\u001b[1;32m    248\u001b[0m \u001b[0;32mtry\u001b[0m\u001b[0;34m:\u001b[0m\u001b[0;34m\u001b[0m\u001b[0;34m\u001b[0m\u001b[0m\n\u001b[0;32m--> 249\u001b[0;31m     \u001b[0;32mimport\u001b[0m \u001b[0mmouseinfo\u001b[0m\u001b[0;34m\u001b[0m\u001b[0;34m\u001b[0m\u001b[0m\n\u001b[0m\u001b[1;32m    250\u001b[0m \u001b[0;34m\u001b[0m\u001b[0m\n\u001b[1;32m    251\u001b[0m     \u001b[0;32mdef\u001b[0m \u001b[0mmouseInfo\u001b[0m\u001b[0;34m(\u001b[0m\u001b[0;34m)\u001b[0m\u001b[0;34m:\u001b[0m\u001b[0;34m\u001b[0m\u001b[0;34m\u001b[0m\u001b[0m\n",
            "\u001b[0;32m/usr/local/lib/python3.8/dist-packages/mouseinfo/__init__.py\u001b[0m in \u001b[0;36m<module>\u001b[0;34m\u001b[0m\n\u001b[1;32m    221\u001b[0m             \u001b[0;32mraise\u001b[0m\u001b[0;34m\u001b[0m\u001b[0;34m\u001b[0m\u001b[0m\n\u001b[1;32m    222\u001b[0m \u001b[0;34m\u001b[0m\u001b[0m\n\u001b[0;32m--> 223\u001b[0;31m     \u001b[0m_display\u001b[0m \u001b[0;34m=\u001b[0m \u001b[0mDisplay\u001b[0m\u001b[0;34m(\u001b[0m\u001b[0mos\u001b[0m\u001b[0;34m.\u001b[0m\u001b[0menviron\u001b[0m\u001b[0;34m[\u001b[0m\u001b[0;34m'DISPLAY'\u001b[0m\u001b[0;34m]\u001b[0m\u001b[0;34m)\u001b[0m\u001b[0;34m\u001b[0m\u001b[0;34m\u001b[0m\u001b[0m\n\u001b[0m\u001b[1;32m    224\u001b[0m \u001b[0;34m\u001b[0m\u001b[0m\n\u001b[1;32m    225\u001b[0m     \u001b[0;32mdef\u001b[0m \u001b[0m_linuxPosition\u001b[0m\u001b[0;34m(\u001b[0m\u001b[0;34m)\u001b[0m\u001b[0;34m:\u001b[0m\u001b[0;34m\u001b[0m\u001b[0;34m\u001b[0m\u001b[0m\n",
            "\u001b[0;32m/usr/lib/python3.8/os.py\u001b[0m in \u001b[0;36m__getitem__\u001b[0;34m(self, key)\u001b[0m\n\u001b[1;32m    673\u001b[0m         \u001b[0;32mexcept\u001b[0m \u001b[0mKeyError\u001b[0m\u001b[0;34m:\u001b[0m\u001b[0;34m\u001b[0m\u001b[0;34m\u001b[0m\u001b[0m\n\u001b[1;32m    674\u001b[0m             \u001b[0;31m# raise KeyError with the original key value\u001b[0m\u001b[0;34m\u001b[0m\u001b[0;34m\u001b[0m\u001b[0;34m\u001b[0m\u001b[0m\n\u001b[0;32m--> 675\u001b[0;31m             \u001b[0;32mraise\u001b[0m \u001b[0mKeyError\u001b[0m\u001b[0;34m(\u001b[0m\u001b[0mkey\u001b[0m\u001b[0;34m)\u001b[0m \u001b[0;32mfrom\u001b[0m \u001b[0;32mNone\u001b[0m\u001b[0;34m\u001b[0m\u001b[0;34m\u001b[0m\u001b[0m\n\u001b[0m\u001b[1;32m    676\u001b[0m         \u001b[0;32mreturn\u001b[0m \u001b[0mself\u001b[0m\u001b[0;34m.\u001b[0m\u001b[0mdecodevalue\u001b[0m\u001b[0;34m(\u001b[0m\u001b[0mvalue\u001b[0m\u001b[0;34m)\u001b[0m\u001b[0;34m\u001b[0m\u001b[0;34m\u001b[0m\u001b[0m\n\u001b[1;32m    677\u001b[0m \u001b[0;34m\u001b[0m\u001b[0m\n",
            "\u001b[0;31mKeyError\u001b[0m: 'DISPLAY'"
          ]
        }
      ]
    }
  ]
}