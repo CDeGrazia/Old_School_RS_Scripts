{
  "nbformat": 4,
  "nbformat_minor": 0,
  "metadata": {
    "colab": {
      "provenance": [],
      "authorship_tag": "ABX9TyMDm/cevXX2Yt0StJrQIdwO",
      "include_colab_link": true
    },
    "kernelspec": {
      "name": "python3",
      "display_name": "Python 3"
    },
    "language_info": {
      "name": "python"
    }
  },
  "cells": [
    {
      "cell_type": "markdown",
      "metadata": {
        "id": "view-in-github",
        "colab_type": "text"
      },
      "source": [
        "<a href=\"https://colab.research.google.com/github/CDeGrazia/Old_School_RS_Scripts/blob/main/Birdhouse_Runs.ipynb\" target=\"_parent\"><img src=\"https://colab.research.google.com/assets/colab-badge.svg\" alt=\"Open In Colab\"/></a>"
      ]
    },
    {
      "cell_type": "code",
      "execution_count": null,
      "metadata": {
        "colab": {
          "base_uri": "https://localhost:8080/",
          "height": 384
        },
        "id": "Rw-UCLqX5bwT",
        "outputId": "798cea95-d927-4bf0-9da8-9c3930cb3cdf"
      },
      "outputs": [
        {
          "output_type": "error",
          "ename": "ModuleNotFoundError",
          "evalue": "ignored",
          "traceback": [
            "\u001b[0;31m---------------------------------------------------------------------------\u001b[0m",
            "\u001b[0;31mModuleNotFoundError\u001b[0m                       Traceback (most recent call last)",
            "\u001b[0;32m<ipython-input-1-cf006c23c513>\u001b[0m in \u001b[0;36m<module>\u001b[0;34m\u001b[0m\n\u001b[1;32m      1\u001b[0m \u001b[0;32mimport\u001b[0m \u001b[0mtime\u001b[0m\u001b[0;34m\u001b[0m\u001b[0;34m\u001b[0m\u001b[0m\n\u001b[0;32m----> 2\u001b[0;31m \u001b[0;32mimport\u001b[0m \u001b[0mpyautogui\u001b[0m\u001b[0;34m\u001b[0m\u001b[0;34m\u001b[0m\u001b[0m\n\u001b[0m\u001b[1;32m      3\u001b[0m \u001b[0;34m\u001b[0m\u001b[0m\n\u001b[1;32m      4\u001b[0m \u001b[0;31m# set a pause between each action (in seconds)\u001b[0m\u001b[0;34m\u001b[0m\u001b[0;34m\u001b[0m\u001b[0;34m\u001b[0m\u001b[0m\n\u001b[1;32m      5\u001b[0m \u001b[0mpause\u001b[0m \u001b[0;34m=\u001b[0m \u001b[0;36m0.5\u001b[0m\u001b[0;34m\u001b[0m\u001b[0;34m\u001b[0m\u001b[0m\n",
            "\u001b[0;31mModuleNotFoundError\u001b[0m: No module named 'pyautogui'",
            "",
            "\u001b[0;31m---------------------------------------------------------------------------\u001b[0;32m\nNOTE: If your import is failing due to a missing package, you can\nmanually install dependencies using either !pip or !apt.\n\nTo view examples of installing some common dependencies, click the\n\"Open Examples\" button below.\n\u001b[0;31m---------------------------------------------------------------------------\u001b[0m\n"
          ],
          "errorDetails": {
            "actions": [
              {
                "action": "open_url",
                "actionText": "Open Examples",
                "url": "/notebooks/snippets/importing_libraries.ipynb"
              }
            ]
          }
        }
      ],
      "source": [
        "import time\n",
        "import pyautogui\n",
        "\n",
        "# set a pause between each action (in seconds)\n",
        "pause = 0.5\n",
        "\n",
        "# move the mouse to the inventory\n",
        "pyautogui.moveTo(920, 885, duration=0.5)\n",
        "\n",
        "# right-click the digsite pendent and select \"Fossil Island\"\n",
        "pyautogui.rightClick()\n",
        "time.sleep(pause)\n",
        "pyautogui.moveTo(935, 955, duration=0.5)\n",
        "pyautogui.click()\n",
        "time.sleep(pause)\n",
        "\n",
        "# wait for the teleport to complete\n",
        "time.sleep(10)\n",
        "\n",
        "# open the birdhouse interface\n",
        "pyautogui.press('b')\n",
        "time.sleep(pause)\n",
        "\n",
        "# empty the birdhouse\n",
        "pyautogui.click(1050, 390)\n",
        "time.sleep(pause)\n",
        "\n",
        "# make the birdhouse\n",
        "pyautogui.click(985, 550)\n",
        "time.sleep(pause)\n",
        "\n",
        "# select hammerstone seeds and magic logs\n",
        "pyautogui.click(775, 555)\n",
        "time.sleep(pause)\n",
        "pyautogui.click(790, 690)\n",
        "time.sleep(pause)\n",
        "\n",
        "# replace the birdhouse\n",
        "pyautogui.click(1050, 390)\n",
        "time.sleep(pause)\n",
        "\n",
        "# fill the birdhouse\n",
        "pyautogui.click(1065, 465)\n",
        "time.sleep(pause)\n",
        "pyautogui.click(775, 555)\n",
        "time.sleep(pause)\n",
        "pyautogui.click(810, 625)\n",
        "time.sleep(pause)\n",
        "pyautogui.click(1150, 590)\n",
        "time.sleep(pause)\n",
        "pyautogui.click(1180, 665)\n",
        "time.sleep(pause)\n",
        "\n",
        "# close the birdhouse interface\n",
        "pyautogui.press('esc')\n"
      ]
    },
    {
      "cell_type": "markdown",
      "source": [
        "having issues with pyautogui going to try switching to pydirectinput"
      ],
      "metadata": {
        "id": "fzk68N9F7xFX"
      }
    },
    {
      "cell_type": "markdown",
      "source": [
        "attempt 2"
      ],
      "metadata": {
        "id": "UA08q4AT79Sq"
      }
    },
    {
      "cell_type": "code",
      "source": [
        "!pip install pydirectinput"
      ],
      "metadata": {
        "colab": {
          "base_uri": "https://localhost:8080/"
        },
        "id": "34xHAWJO7_EW",
        "outputId": "99450fd7-37b1-4bf6-e016-4323db2994a2"
      },
      "execution_count": null,
      "outputs": [
        {
          "output_type": "stream",
          "name": "stdout",
          "text": [
            "Looking in indexes: https://pypi.org/simple, https://us-python.pkg.dev/colab-wheels/public/simple/\n",
            "Collecting pydirectinput\n",
            "  Downloading PyDirectInput-1.0.4-py3-none-any.whl (8.9 kB)\n",
            "Installing collected packages: pydirectinput\n",
            "Successfully installed pydirectinput-1.0.4\n"
          ]
        }
      ]
    },
    {
      "cell_type": "code",
      "source": [
        "import time\n",
        "import pydirectinput\n",
        "\n",
        "# Define the coordinates of the birdhouse and seed box\n",
        "BIRDHOUSE_X = 570\n",
        "BIRDHOUSE_Y = 260\n",
        "SEED_BOX_X = 250\n",
        "SEED_BOX_Y = 470\n",
        "\n",
        "# Define the keyboard shortcuts for opening and closing the seed box\n",
        "SEED_BOX_KEY = '2'\n",
        "CLOSE_KEY = 'esc'\n",
        "\n",
        "# Define the delay between actions (in seconds)\n",
        "DELAY = 1.5\n",
        "\n",
        "# Use the digsite pendant to teleport to Fossil Island\n",
        "pydirectinput.press('esc')\n",
        "time.sleep(DELAY)\n",
        "pydirectinput.press('/')\n",
        "time.sleep(DELAY)\n",
        "pydirectinput.write('digsite pendant')\n",
        "time.sleep(DELAY)\n",
        "pydirectinput.press('enter')\n",
        "time.sleep(DELAY)\n",
        "\n",
        "# Open the birdhouse and seed box\n",
        "pydirectinput.moveTo(BIRDHOUSE_X, BIRDHOUSE_Y)\n",
        "time.sleep(DELAY)\n",
        "pydirectinput.rightClick()\n",
        "time.sleep(DELAY)\n",
        "pydirectinput.press(SEED_BOX_KEY)\n",
        "time.sleep(DELAY)\n",
        "pydirectinput.moveTo(SEED_BOX_X, SEED_BOX_Y)\n",
        "time.sleep(DELAY)\n",
        "pydirectinput.click()\n",
        "\n",
        "# Empty the birdhouse and make new birdhouses with hammerstone seeds\n",
        "pydirectinput.press('1')\n",
        "time.sleep(DELAY)\n",
        "pydirectinput.press('1')\n",
        "time.sleep(DELAY)\n",
        "pydirectinput.press('1')\n",
        "time.sleep(DELAY)\n",
        "\n",
        "# Replace the birdhouse and fill with bird feed (using magic logs)\n",
        "pydirectinput.moveTo(BIRDHOUSE_X, BIRDHOUSE_Y)\n",
        "time.sleep(DELAY)\n",
        "pydirectinput.rightClick()\n",
        "time.sleep(DELAY)\n",
        "pydirectinput.click()\n",
        "time.sleep(DELAY)\n",
        "pydirectinput.press(CLOSE_KEY)\n",
        "time.sleep(DELAY)\n",
        "pydirectinput.press('4')\n",
        "time.sleep(DELAY)\n",
        "pydirectinput.press('4')\n",
        "time.sleep(DELAY)\n",
        "pydirectinput.press('4')\n",
        "time.sleep(DELAY)\n",
        "pydirectinput.press('4')\n",
        "time.sleep(DELAY)\n",
        "pydirectinput.press('1')\n",
        "time.sleep(DELAY)\n",
        "\n",
        "# Close the birdhouse and seed box\n",
        "pydirectinput.moveTo(BIRDHOUSE_X, BIRDHOUSE_Y)\n",
        "time.sleep(DELAY)\n",
        "pydirectinput.rightClick()\n",
        "time.sleep(DELAY)\n",
        "pydirectinput.press(CLOSE_KEY)\n",
        "time.sleep(DELAY)\n",
        "pydirectinput.moveTo(SEED_BOX_X, SEED_BOX_Y)\n",
        "time.sleep(DELAY)\n",
        "pydirectinput.click()\n",
        "time.sleep(DELAY)\n",
        "pydirectinput.press(CLOSE_KEY)\n",
        "time.sleep(DELAY)\n"
      ],
      "metadata": {
        "colab": {
          "base_uri": "https://localhost:8080/",
          "height": 366
        },
        "id": "rWyh-hQr7_hR",
        "outputId": "d718eec1-f101-4d40-d295-91579df537b2"
      },
      "execution_count": null,
      "outputs": [
        {
          "output_type": "error",
          "ename": "AttributeError",
          "evalue": "ignored",
          "traceback": [
            "\u001b[0;31m---------------------------------------------------------------------------\u001b[0m",
            "\u001b[0;31mAttributeError\u001b[0m                            Traceback (most recent call last)",
            "\u001b[0;32m<ipython-input-3-daca58c328cf>\u001b[0m in \u001b[0;36m<module>\u001b[0;34m\u001b[0m\n\u001b[1;32m      1\u001b[0m \u001b[0;32mimport\u001b[0m \u001b[0mtime\u001b[0m\u001b[0;34m\u001b[0m\u001b[0;34m\u001b[0m\u001b[0m\n\u001b[0;32m----> 2\u001b[0;31m \u001b[0;32mimport\u001b[0m \u001b[0mpydirectinput\u001b[0m\u001b[0;34m\u001b[0m\u001b[0;34m\u001b[0m\u001b[0m\n\u001b[0m\u001b[1;32m      3\u001b[0m \u001b[0;34m\u001b[0m\u001b[0m\n\u001b[1;32m      4\u001b[0m \u001b[0;31m# Define the coordinates of the birdhouse and seed box\u001b[0m\u001b[0;34m\u001b[0m\u001b[0;34m\u001b[0m\u001b[0;34m\u001b[0m\u001b[0m\n\u001b[1;32m      5\u001b[0m \u001b[0mBIRDHOUSE_X\u001b[0m \u001b[0;34m=\u001b[0m \u001b[0;36m570\u001b[0m\u001b[0;34m\u001b[0m\u001b[0;34m\u001b[0m\u001b[0m\n",
            "\u001b[0;32m/usr/local/lib/python3.8/dist-packages/pydirectinput/__init__.py\u001b[0m in \u001b[0;36m<module>\u001b[0;34m\u001b[0m\n\u001b[1;32m      4\u001b[0m \u001b[0;32mimport\u001b[0m \u001b[0mtime\u001b[0m\u001b[0;34m\u001b[0m\u001b[0;34m\u001b[0m\u001b[0m\n\u001b[1;32m      5\u001b[0m \u001b[0;34m\u001b[0m\u001b[0m\n\u001b[0;32m----> 6\u001b[0;31m \u001b[0mSendInput\u001b[0m \u001b[0;34m=\u001b[0m \u001b[0mctypes\u001b[0m\u001b[0;34m.\u001b[0m\u001b[0mwindll\u001b[0m\u001b[0;34m.\u001b[0m\u001b[0muser32\u001b[0m\u001b[0;34m.\u001b[0m\u001b[0mSendInput\u001b[0m\u001b[0;34m\u001b[0m\u001b[0;34m\u001b[0m\u001b[0m\n\u001b[0m\u001b[1;32m      7\u001b[0m \u001b[0mMapVirtualKey\u001b[0m \u001b[0;34m=\u001b[0m \u001b[0mctypes\u001b[0m\u001b[0;34m.\u001b[0m\u001b[0mwindll\u001b[0m\u001b[0;34m.\u001b[0m\u001b[0muser32\u001b[0m\u001b[0;34m.\u001b[0m\u001b[0mMapVirtualKeyW\u001b[0m\u001b[0;34m\u001b[0m\u001b[0;34m\u001b[0m\u001b[0m\n\u001b[1;32m      8\u001b[0m \u001b[0;34m\u001b[0m\u001b[0m\n",
            "\u001b[0;31mAttributeError\u001b[0m: module 'ctypes' has no attribute 'windll'"
          ]
        }
      ]
    },
    {
      "cell_type": "markdown",
      "source": [
        "attemp 3"
      ],
      "metadata": {
        "id": "2NnaH2ViUIox"
      }
    },
    {
      "cell_type": "code",
      "source": [
        "import time\n",
        "import pydirectinput\n",
        "\n",
        "# Define the coordinates of the items we need to click on\n",
        "digsite_pendant_coords = (632, 302)\n",
        "fossil_island_option_coords = (502, 314)\n",
        "empty_birdhouse_coords = (1551, 843)\n",
        "hammerstone_seeds_coords = (1775, 625)\n",
        "make_birdhouse_coords = (1399, 874)\n",
        "replace_birdhouse_coords = (1416, 938)\n",
        "fill_birdhouse_coords = (1401, 910)\n",
        "magic_logs_coords = (1276, 592)\n",
        "\n",
        "# Define the time to wait between actions\n",
        "short_wait = 1.5\n",
        "long_wait = 5\n",
        "\n",
        "# Move the mouse to the digsite pendent and click on it\n",
        "pydirectinput.moveTo(digsite_pendant_coords)\n",
        "pydirectinput.click()\n",
        "time.sleep(long_wait)\n",
        "\n",
        "# Move the mouse to the Fossil Island option and click on it\n",
        "pydirectinput.moveTo(fossil_island_option_coords)\n",
        "pydirectinput.click()\n",
        "time.sleep(long_wait)\n",
        "\n",
        "# Empty the birdhouse\n",
        "pydirectinput.moveTo(empty_birdhouse_coords)\n",
        "pydirectinput.click()\n",
        "time.sleep(short_wait)\n",
        "\n",
        "# Select the Hammerstone Seeds\n",
        "pydirectinput.moveTo(hammerstone_seeds_coords)\n",
        "pydirectinput.click()\n",
        "time.sleep(short_wait)\n",
        "\n",
        "# Make the birdhouse\n",
        "pydirectinput.moveTo(make_birdhouse_coords)\n",
        "pydirectinput.click()\n",
        "time.sleep(long_wait)\n",
        "\n",
        "# Replace the birdhouse\n",
        "pydirectinput.moveTo(replace_birdhouse_coords)\n",
        "pydirectinput.click()\n",
        "time.sleep(short_wait)\n",
        "\n",
        "# Fill the birdhouse\n",
        "pydirectinput.moveTo(fill_birdhouse_coords)\n",
        "pydirectinput.click()\n",
        "time.sleep(short_wait)\n",
        "\n",
        "# Select the Magic Logs\n",
        "pydirectinput.moveTo(magic_logs_coords)\n",
        "pydirectinput.click()\n",
        "time.sleep(short_wait)\n",
        "\n",
        "# Make the birdhouse\n",
        "pydirectinput.moveTo(make_birdhouse_coords)\n",
        "pydirectinput.click()\n",
        "time.sleep(long_wait)\n",
        "\n",
        "# Replace the birdhouse\n",
        "pydirectinput.moveTo(replace_birdhouse_coords)\n",
        "pydirectinput.click()\n",
        "time.sleep(short_wait)\n",
        "\n",
        "# Fill the birdhouse\n",
        "pydirectinput.moveTo(fill_birdhouse_coords)\n",
        "pydirectinput.click()\n",
        "time.sleep(short_wait)\n"
      ],
      "metadata": {
        "colab": {
          "base_uri": "https://localhost:8080/",
          "height": 384
        },
        "id": "qs9ao0kyURG7",
        "outputId": "2e0a95cc-e0a0-4a53-faf1-859a612d64d2"
      },
      "execution_count": null,
      "outputs": [
        {
          "output_type": "error",
          "ename": "ModuleNotFoundError",
          "evalue": "ignored",
          "traceback": [
            "\u001b[0;31m---------------------------------------------------------------------------\u001b[0m",
            "\u001b[0;31mModuleNotFoundError\u001b[0m                       Traceback (most recent call last)",
            "\u001b[0;32m<ipython-input-1-0460fc0dd7be>\u001b[0m in \u001b[0;36m<module>\u001b[0;34m\u001b[0m\n\u001b[1;32m      1\u001b[0m \u001b[0;32mimport\u001b[0m \u001b[0mtime\u001b[0m\u001b[0;34m\u001b[0m\u001b[0;34m\u001b[0m\u001b[0m\n\u001b[0;32m----> 2\u001b[0;31m \u001b[0;32mimport\u001b[0m \u001b[0mpydirectinput\u001b[0m\u001b[0;34m\u001b[0m\u001b[0;34m\u001b[0m\u001b[0m\n\u001b[0m\u001b[1;32m      3\u001b[0m \u001b[0;34m\u001b[0m\u001b[0m\n\u001b[1;32m      4\u001b[0m \u001b[0;31m# Define the coordinates of the items we need to click on\u001b[0m\u001b[0;34m\u001b[0m\u001b[0;34m\u001b[0m\u001b[0;34m\u001b[0m\u001b[0m\n\u001b[1;32m      5\u001b[0m \u001b[0mdigsite_pendant_coords\u001b[0m \u001b[0;34m=\u001b[0m \u001b[0;34m(\u001b[0m\u001b[0;36m632\u001b[0m\u001b[0;34m,\u001b[0m \u001b[0;36m302\u001b[0m\u001b[0;34m)\u001b[0m\u001b[0;34m\u001b[0m\u001b[0;34m\u001b[0m\u001b[0m\n",
            "\u001b[0;31mModuleNotFoundError\u001b[0m: No module named 'pydirectinput'",
            "",
            "\u001b[0;31m---------------------------------------------------------------------------\u001b[0;32m\nNOTE: If your import is failing due to a missing package, you can\nmanually install dependencies using either !pip or !apt.\n\nTo view examples of installing some common dependencies, click the\n\"Open Examples\" button below.\n\u001b[0;31m---------------------------------------------------------------------------\u001b[0m\n"
          ],
          "errorDetails": {
            "actions": [
              {
                "action": "open_url",
                "actionText": "Open Examples",
                "url": "/notebooks/snippets/importing_libraries.ipynb"
              }
            ]
          }
        }
      ]
    }
  ]
}